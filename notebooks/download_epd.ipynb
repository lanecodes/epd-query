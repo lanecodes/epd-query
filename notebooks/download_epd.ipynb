{
 "cells": [
  {
   "cell_type": "markdown",
   "metadata": {},
   "source": [
    "# Download the European Pollen Database\n",
    "This code will go into `fetch.py`"
   ]
  },
  {
   "cell_type": "code",
   "execution_count": null,
   "metadata": {},
   "outputs": [],
   "source": [
    "from pathlib import Path\n",
    "import requests\n",
    "import tempfile\n",
    "from zipfile import ZipFile"
   ]
  },
  {
   "cell_type": "code",
   "execution_count": null,
   "metadata": {},
   "outputs": [],
   "source": [
    "EPD_URL = (\n",
    "    'http://europeanpollendatabase.net/data/downloads/image/'\n",
    "    'epd-postgres-distribution-20171031.zip'\n",
    ")"
   ]
  },
  {
   "cell_type": "code",
   "execution_count": null,
   "metadata": {},
   "outputs": [],
   "source": [
    "def download_epd(out_dir: Path, epd_url: str) -> Path:\n",
    "    \"\"\"Download EPD and extract Postgres distr to `filename`.\"\"\"\n",
    "    if not out_dir.is_dir():\n",
    "        raise ValueError('out_dir must be a directory.')\n",
    "\n",
    "    with tempfile.TemporaryDirectory() as dirpath:\n",
    "        zipfile_path = Path(dirpath) / 'epd_tmp.zip'\n",
    "        with open(zipfile_path, 'wb') as f:\n",
    "            r = requests.get(EPD_URL)\n",
    "            if r.status_code != 200:\n",
    "                raise ValueError(\n",
    "                    f'{r.status_code} error encountered while downloading the'\n",
    "                    ' EPD. Visit http://europeanpollendatabase.net/data to '\n",
    "                    'check if there is a new version of the Postgres '\n",
    "                    'distribution of the EPD available.'\n",
    "                )        \n",
    "            f.write(requests.get(EPD_URL).content)\n",
    "            \n",
    "        with ZipFile(EPD_FNAME, 'r') as z:\n",
    "            pg_dump_fname = 'dumpall_epd_db.sql.gz'\n",
    "            z.extract(pg_dump_fname, path=(out_dir / pg_dump_fname))\n",
    "            \n",
    "    return out_dir / pg_dump_fname"
   ]
  },
  {
   "cell_type": "code",
   "execution_count": null,
   "metadata": {},
   "outputs": [],
   "source": [
    "data_dir = Path('data')\n",
    "data_dir.mkdir(exist_ok=True)\n",
    "epd_file = download_epd(data_dir, EPD_URL)"
   ]
  }
 ],
 "metadata": {
  "kernelspec": {
   "display_name": "Python 3",
   "language": "python",
   "name": "python3"
  },
  "language_info": {
   "codemirror_mode": {
    "name": "ipython",
    "version": 3
   },
   "file_extension": ".py",
   "mimetype": "text/x-python",
   "name": "python",
   "nbconvert_exporter": "python",
   "pygments_lexer": "ipython3",
   "version": "3.7.0"
  }
 },
 "nbformat": 4,
 "nbformat_minor": 4
}
